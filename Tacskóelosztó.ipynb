{
 "cells": [
  {
   "cell_type": "code",
   "execution_count": 16,
   "id": "93e8b494",
   "metadata": {
    "scrolled": true
   },
   "outputs": [],
   "source": [
    "import ipywidgets as widgets\n",
    "\n",
    "def value_back(**kwargs):\n",
    "    print(kwargs)\n",
    "    print(type(kwargs))\n",
    "    return kwargs\n",
    "    \n",
    "#is_here = {\"Tibi\":True, \"Laci\":True, \"Balito\":True, \"Kemba\":False, \"Andro\":True,\\\n",
    "#           \"Csabi\":True, \"Áron\":False, \"Bobby\":False, \"Pille\":False,\"Dávid\":True, \"Zuzu\":True,\\\n",
    "#            \"Barbi\":True, \"Dani\":True, \"Sáj\":False, \"Szilvi\":True, \"Gergely\":True, \"Peti\":False, \"Doki\":True}\n",
    "\n",
    "\n",
    "#chbox_andro = widgets.Checkbox(value=True, description = \"Andro\")\n",
    "#chbox_aron = widgets.Checkbox(value=False, description = \"Áron\")\n",
    "#chbox_balito = widgets.Checkbox(value=True, description = \"Balito\")\n",
    "#chbox_barbi = widgets.Checkbox(value=True, description = \"Barbi\")\n",
    "#chbox_bobby = widgets.Checkbox(value=True, description = \"Bobby\")\n",
    "#chbox_csabi = widgets.Checkbox(value=True, description = \"Csabi\")\n",
    "#chbox_dani = widgets.Checkbox(value=True, description = \"Dani\")\n",
    "#chbox_david = widgets.Checkbox(value=True, description = \"Dávid\")\n",
    "#chbox_doki = widgets.Checkbox(value=True, description = \"Doki\")\n",
    "#chbox_gergely = widgets.Checkbox(value=True, description = \"Gergely\")\n",
    "#chbox_kemba = widgets.Checkbox(value=True, description = \"Kemba\")\n",
    "#chbox_laci = widgets.Checkbox(value=False, description = \"Laci\")\n",
    "#chbox_peti = widgets.Checkbox(value=False, description = \"Peti\")\n",
    "#chbox_pille = widgets.Checkbox(value=False, description = \"Pille\")\n",
    "#chbox_saj = widgets.Checkbox(value=False, description = \"Sáj\")\n",
    "#chbox_szilvi = widgets.Checkbox(value=False, description = \"Szilvi\")\n",
    "#chbox_tibi = widgets.Checkbox(value=True, description = \"Tibi\")\n",
    "#chbox_zuzu = widgets.Checkbox(value=True, description = \"Zuzu\")\n",
    "\n",
    "\n",
    "\n",
    "#box_layout = widgets.Layout(display=\"inline-flex\",\n",
    "#                            flex_flow=\"column\",\n",
    "#                            align_items=\"stretch\",\n",
    "#                            border=\"none\",\n",
    "#                            width=\"100%\")\n",
    "\n",
    "#ui = widgets.HBox([chbox_andro,chbox_aron,chbox_balito,chbox_barbi,chbox_bobby,chbox_csabi,\\\n",
    "#                  chbox_dani,chbox_david,chbox_doki,chbox_gergely,chbox_kemba,chbox_laci,chbox_peti,\\\n",
    "#                  chbox_pille,chbox_saj,chbox_szilvi,chbox_tibi,chbox_zuzu],layout=box_layout)\n",
    "\n",
    "#is_here = widgets.interactive_output(value_back, {\"Andro\":chbox_andro,\n",
    "#                                              \"Áron\":chbox_aron,\n",
    "#                                              \"Balito\":chbox_balito,\n",
    "#                                              \"Barbi\":chbox_barbi,\n",
    "#                                              \"Bobby\":chbox_bobby,\n",
    "#                                              \"Csabi\":chbox_csabi,\n",
    "#                                              \"Dani\":chbox_dani,\n",
    "#                                              \"Dávid\":chbox_david,\n",
    "#                                              \"Doki\":chbox_doki,\n",
    "#                                              \"Gergely\":chbox_gergely,\n",
    "#                                              \"Kemba\":chbox_kemba,\n",
    "#                                              \"Laci\":chbox_laci,\n",
    "#                                              \"Peti\":chbox_peti,\n",
    "#                                              \"Pille\":chbox_pille,\n",
    "#                                             \"Sáj\":chbox_saj,\n",
    "#                                              \"Szilvi\":chbox_szilvi,\n",
    "#                                             \"Tibi\":chbox_tibi,\n",
    "#                                              \"Zuzu\":chbox_zuzu\n",
    "#                                             })\n",
    "\n",
    "\n",
    "#display(widgets.widgets.HTML(\"Jelenlévők:\"))\n",
    "\n",
    "#display(ui,is_here)\n",
    "\n",
    "#print(type(is_here))\n",
    "#print(type(chbox_andro))\n",
    "#print(is_here)\n",
    "\n",
    "# Átírni sima interact-ra?\n",
    "\n",
    "#additional = widgets.Text(value=\"\",\n",
    "#                         placeholder=\"\",\n",
    "#                         description=\"továbbá:\")\n",
    "\n",
    "#additional.on_submit(value_back)\n",
    "\n",
    "#https://towardsdatascience.com/bring-your-jupyter-notebook-to-life-with-interactive-widgets-bc12e03f0916\n",
    "#https://ipywidgets.readthedocs.io/en/7.6.3/examples/Widget%20Styling.html\n",
    "#https://www.youtube.com/watch?v=HY7cf-CYs1o\n",
    "#interact_manual"
   ]
  },
  {
   "cell_type": "code",
   "execution_count": null,
   "id": "3bbd6820",
   "metadata": {},
   "outputs": [],
   "source": []
  },
  {
   "cell_type": "code",
   "execution_count": null,
   "id": "e42b0bc7",
   "metadata": {},
   "outputs": [],
   "source": []
  },
  {
   "cell_type": "code",
   "execution_count": null,
   "id": "a9ae8bcc",
   "metadata": {},
   "outputs": [],
   "source": []
  },
  {
   "cell_type": "code",
   "execution_count": 1,
   "id": "44fae3b6",
   "metadata": {},
   "outputs": [
    {
     "data": {
      "application/vnd.jupyter.widget-view+json": {
       "model_id": "15c9c4f09cb443129a96c16d2e8a224f",
       "version_major": 2,
       "version_minor": 0
      },
      "text/plain": [
       "HTML(value='<h2>Tacskóelosztó</h2>')"
      ]
     },
     "metadata": {},
     "output_type": "display_data"
    },
    {
     "data": {
      "application/vnd.jupyter.widget-view+json": {
       "model_id": "2eb1e79de425478b8689af0c81c57181",
       "version_major": 2,
       "version_minor": 0
      },
      "text/plain": [
       "HTML(value='<h3>Jelenlévők:</h3>')"
      ]
     },
     "metadata": {},
     "output_type": "display_data"
    },
    {
     "data": {
      "application/vnd.jupyter.widget-view+json": {
       "model_id": "2ac04400fd3e40b19111cecb4a56bab0",
       "version_major": 2,
       "version_minor": 0
      },
      "text/plain": [
       "VBox(children=(HBox(children=(Checkbox(value=True, description='Andro'), Checkbox(value=False, description='Ár…"
      ]
     },
     "metadata": {},
     "output_type": "display_data"
    }
   ],
   "source": [
    "\n",
    "\n",
    "import ipywidgets as widgets\n",
    "from IPython.display import display, clear_output\n",
    "\n",
    "is_here = {\"Andro\":True,\"Áron\":False,\"Balito\":True,\"Barbi\":True,\"Bobby\":False,\"Csabi\":True,\\\n",
    "            \"Dani\":True,\"Dávid\":True,\"Doki\":True,\"Gergely\":True,\"Kemba\":False,\"Laci\":True,\\\n",
    "           \"Peti\":False,\"Pille\":False,\"Sáj\":False,\"Szilvi\":True,\"Tibi\":True,\"Zuzu\":True}\n",
    "\n",
    "# Create checkboxes for each item in the dictionary\n",
    "checkboxes = {}\n",
    "for key, value in is_here.items():\n",
    "    checkboxes[key] = widgets.Checkbox(value=value, description=key)\n",
    "\n",
    "# Create a function to update the dictionary when a checkbox is changed\n",
    "def on_change(change):\n",
    "    is_here[change['owner'].description] = change['new']\n",
    "\n",
    "# Attach the function to the checkboxes\n",
    "for checkbox in checkboxes.values():\n",
    "    checkbox.observe(on_change, names='value')\n",
    "\n",
    "display(widgets.widgets.HTML(\"<h2>Tacskóelosztó</h2>\"))  \n",
    "display(widgets.widgets.HTML(\"<h3>Jelenlévők:</h3>\"))\n",
    "\n",
    "# Display the checkboxes\n",
    "#for checkbox in checkboxes.values():\n",
    "#    display(checkbox)\n",
    "\n",
    "# Create the HBox and VBox widgets to layout the checkboxes\n",
    "hbox = widgets.HBox(list(checkboxes.values()))\n",
    "\n",
    "\n",
    "checkbox_layout = widgets.Layout(display=\"flex\",\n",
    "                            flex_flow=\"column\",\n",
    "                            align_items=\"stretch\",\n",
    "                            border=\"none\",\n",
    "                            width=\"100%\")\n",
    "\n",
    "vbox = widgets.VBox(children=[hbox],layout=checkbox_layout)\n",
    "\n",
    "display(vbox)\n",
    "\n",
    "\n",
    "\n",
    "\n",
    "\n",
    "\n",
    "\n"
   ]
  },
  {
   "cell_type": "code",
   "execution_count": 3,
   "id": "705a95ab",
   "metadata": {},
   "outputs": [
    {
     "name": "stdout",
     "output_type": "stream",
     "text": [
      "(Doki részére még nincs statisztika.)\n"
     ]
    },
    {
     "data": {
      "application/vnd.jupyter.widget-view+json": {
       "model_id": "2e8123db38a645a99bdacdff3a68c9c8",
       "version_major": 2,
       "version_minor": 0
      },
      "text/plain": [
       "VBox(children=(Button(description='Mehet', style=ButtonStyle()), Output()))"
      ]
     },
     "metadata": {},
     "output_type": "display_data"
    }
   ],
   "source": [
    "#print(is_here)\n",
    "\n",
    "import csv\n",
    "import re\n",
    "import random\n",
    "\n",
    "with open(\"Hoki eredmények_2.csv\",encoding=\"utf-8\") as results:\n",
    "\n",
    "    csv_results = csv.reader(results,delimiter=\"\\t\")\n",
    "    result_lines = list(csv_results)\n",
    "    results.close()\n",
    "\n",
    "\n",
    "\n",
    "team_goals_ratio = 0.2\n",
    "\n",
    "# Creating list of current players with their ratings (weighted goal averages)\n",
    "player_ratings = {}\n",
    "player_match_nums = {}\n",
    "\n",
    "for match in result_lines[1:]:\n",
    "    # Match result format is: \"team a goals:team b goals\"\n",
    "    team_goal = list(map(int,match[1].split(\":\")))\n",
    "    \n",
    "    for i,roster in enumerate(match[2:]):\n",
    "        for player_stat in roster.split(\",\"):\n",
    "            # Player stat format is: \"Name(goals on the match)\"\n",
    "            m = re.search(\"\\d+\",player_stat)\n",
    "            player_goal = int(m.group())\n",
    "            player_name = player_stat[:m.start()-1]\n",
    "            \n",
    "            player_weighted_goal = team_goal[i] * team_goals_ratio + player_goal * (1-team_goals_ratio)\n",
    "            try:\n",
    "                player_ratings[player_name] += player_weighted_goal\n",
    "                player_match_nums[player_name] += 1\n",
    "            except KeyError:\n",
    "                player_ratings[player_name] = player_weighted_goal\n",
    "                player_match_nums[player_name] = 1\n",
    "                \n",
    "player_avg_ratings = {}\n",
    "for player_name in player_ratings.keys():\n",
    "    player_avg_ratings[player_name] = player_ratings[player_name] / player_match_nums[player_name]\n",
    "\n",
    "\n",
    "current_players = {}\n",
    "for name,name_is_here in is_here.items():\n",
    "    if name_is_here:\n",
    "        try:\n",
    "            current_players[name] = player_avg_ratings[name]\n",
    "        except KeyError:\n",
    "            print(f\"({name} részére még nincs statisztika.)\")\n",
    "            current_players[name] = 0\n",
    "\n",
    "sorted_current_players = sorted(current_players.items(), key=lambda x:x[1])\n",
    "\n",
    "#print(sorted_current_players)\n",
    "\n",
    "# Assigning players to teams\n",
    "team_a = [elem[0] for i,elem in enumerate(sorted_current_players) if i%2 != 0]\n",
    "team_b = [elem[0] for i,elem in enumerate(sorted_current_players) if i%2 == 0]\n",
    "\n",
    "random.shuffle(team_a)\n",
    "random.shuffle(team_b)\n",
    "\n",
    "\n",
    "\n",
    "teams_output = widgets.Output()\n",
    "    \n",
    "button_run = widgets.Button(\n",
    "                description=\"Mehet\")\n",
    "\n",
    "def print_teams(event):\n",
    "    with teams_output:\n",
    "        clear_output()\n",
    "        print('\\n\"A\" csapat:')\n",
    "        print(*team_a,sep=\"\\n\")\n",
    "        print('\\n\"B\" csapat:')\n",
    "        print(*team_b,sep=\"\\n\")\n",
    "        \n",
    "button_run.on_click(print_teams)\n",
    "\n",
    "vbox_result = widgets.VBox([button_run,teams_output])\n",
    "display(vbox_result)"
   ]
  },
  {
   "cell_type": "code",
   "execution_count": null,
   "id": "ddcf863c",
   "metadata": {},
   "outputs": [],
   "source": []
  }
 ],
 "metadata": {
  "kernelspec": {
   "display_name": "Python 3 (ipykernel)",
   "language": "python",
   "name": "python3"
  },
  "language_info": {
   "codemirror_mode": {
    "name": "ipython",
    "version": 3
   },
   "file_extension": ".py",
   "mimetype": "text/x-python",
   "name": "python",
   "nbconvert_exporter": "python",
   "pygments_lexer": "ipython3",
   "version": "3.9.13"
  }
 },
 "nbformat": 4,
 "nbformat_minor": 5
}
